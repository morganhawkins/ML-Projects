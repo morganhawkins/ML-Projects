{
 "cells": [
  {
   "cell_type": "code",
   "execution_count": 30,
   "id": "38e22a33",
   "metadata": {},
   "outputs": [],
   "source": [
    "import numpy as np\n",
    "from matplotlib import pyplot as plt\n",
    "from scipy.special import expit as sigmoid\n",
    "\n",
    "from time import time\n",
    "from time import sleep\n",
    "\n",
    "import numba\n",
    "\n",
    "\n",
    "from jax import numpy as jnp"
   ]
  },
  {
   "cell_type": "code",
   "execution_count": 31,
   "id": "a1f26b1f",
   "metadata": {},
   "outputs": [],
   "source": [
    "#function to do nothing -- helps clean code use din debugging\n",
    "def silent(a = None):\n",
    "    return\n",
    "\n",
    "def shuffle_together(v_1, v_2):\n",
    "    assert len(v_1) == len(v_2), \"vectors different length\"\n",
    "    \n",
    "    perm = np.random.permutation(len(v_1))\n",
    "    return v_1[perm], v_2[perm]\n",
    "\n",
    "def matmul (vec1, vec2):\n",
    "    return jnp.matmul(vec1, vec2)\n"
   ]
  },
  {
   "cell_type": "code",
   "execution_count": 32,
   "id": "b280f38a",
   "metadata": {},
   "outputs": [],
   "source": [
    "class connected_layer:\n",
    "    def __init__(self, num_neurons, prev_neurons):\n",
    "        \n",
    "        #number of neurons in layer and previous layer\n",
    "        self.size = num_neurons \n",
    "        self.prev_size = prev_neurons \n",
    "        \n",
    "        #weight matrix and bias matrix initialization\n",
    "        \n",
    "        #-must randomize weight matrix so that gradient isn't same for all neurons\n",
    "        #--because gradient of neuron w respect to previous neuron is just associated weight\n",
    "        self.weight_mat = np.random.uniform(-1, 1, (num_neurons, prev_neurons))\n",
    "        self.weight_mat_update = np.zeros((num_neurons, prev_neurons))\n",
    "        \n",
    "        \n",
    "        #-want to be column vector\n",
    "        #--no reason to not initialize to 0\n",
    "        self.bias_mat = np.zeros((num_neurons, 1))\n",
    "        self.bias_mat_update = np.zeros((num_neurons, 1))\n",
    "        \n",
    "    \n",
    "    \n",
    "    #pushes sample through layer and remembers output\n",
    "    #also calcualtes gradient to previous layer\n",
    "    def forward(self, activations):\n",
    "        self.out = matmul(self.weight_mat, activations) + self.bias_mat\n",
    "        \n",
    "        self.gradient_to_prev = self.gradient()\n",
    "        \n",
    "        return self.out\n",
    "\n",
    "    \n",
    "    #returns gradient of layer output (vector)  with respect to weights (matrix)\n",
    "    #loose definition check notes for how this is defined\n",
    "    def gradient(self):\n",
    "        return self.weight_mat.T\n",
    "\n",
    "    \n",
    "class activation_layer:\n",
    "    def __init__(self, size):\n",
    "        self.size = size\n",
    "        self.prev_size = size\n",
    "    \n",
    "    #gradient of output with respect to input\n",
    "    #will always be diagonal matrix since layer is not \"fully\" connected\n",
    "    def gradient(self):\n",
    "        return np.diag(self.out.flatten()*(1-self.out.flatten()))\n",
    "    \n",
    "    #pushes sample through layer and remembers output\n",
    "    #also calcualtes gradient to previous layer\n",
    "    def forward(self, x):\n",
    "        assert x.shape == (self.size, 1), f\"input and layer size incompatible, {x.shape} passed\"\n",
    "        \n",
    "        self.out = sigmoid(x)\n",
    "        self.gradient_to_prev = self.gradient()\n",
    "        \n",
    "        return self.out\n",
    "    \n",
    "    \n",
    "    \n",
    "class input_layer:\n",
    "    def __init__(self, size):\n",
    "        self.size = size\n",
    "        self.prev_size = None\n",
    "        self.gradient_to_prev = None\n",
    "        \n",
    "    def gradient(self):\n",
    "        return None\n",
    "    \n",
    "    #feeds sample to first fully connected layer\n",
    "    def forward(self, x):\n",
    "        assert len(x) == self.size, \"input incorrect length\" \n",
    "        \n",
    "        self.out = x\n",
    "        \n",
    "        return x\n",
    "        \n",
    "        "
   ]
  },
  {
   "cell_type": "code",
   "execution_count": 33,
   "id": "9f7beb1c",
   "metadata": {},
   "outputs": [],
   "source": [
    "#Creating NN object\n",
    "\n",
    "class network:\n",
    "    def __init__(self, layers):\n",
    "        self.layers = layers\n",
    "        self.num_layers = len(layers)\n",
    "        \n",
    "        #input size = number of weights associated w/ each neuron in first layer\n",
    "        self.input_size = layers[0].size\n",
    "        self.output_size = layers[-1].size\n",
    "        \n",
    "        self.epochs_trained = 0\n",
    "        self.loss_history = np.empty(0)\n",
    "        self.train_time = 0\n",
    "        \n",
    "        self.verify()\n",
    "    \n",
    "    def reset_update_mats(self):\n",
    "        for layer in self.layers:\n",
    "            if type(layer) == connected_layer:\n",
    "                layer.weight_mat_update = abs(layer.weight_mat_update*0)\n",
    "                layer.bias_mat_update = abs(layer.bias_mat_update*0)\n",
    "                \n",
    "    def loss(self, x, y):\n",
    "        assert x.shape[0] == y.shape[0], \"x and y incompatible shapes\"\n",
    "        \n",
    "        squared_error = 0\n",
    "        for i in range(len(x)):\n",
    "            squared_error += sum((self.predict(x[i]).flatten() - y[i])**2)\n",
    "        \n",
    "        return squared_error/len(y.flatten())\n",
    "    \n",
    "    def graph_loss_history(self):\n",
    "        \n",
    "        plt.figure(figsize = (7,4))\n",
    "        plt.style.use(\"ggplot\")\n",
    "        plt.plot(np.arange(self.epochs_trained), self.loss_history)\n",
    "        plt.xlabel(\"Epoch\")\n",
    "        plt.ylabel(\"Loss\")\n",
    "        plt.title(\"Training Loss\")\n",
    "\n",
    "        y_range = max(self.loss_history) - min(self.loss_history)\n",
    "\n",
    "        plt.text(self.epochs_trained*.7, y_range*.95 + min(self.loss_history),\n",
    "                 f\"ms/epoch: {round(self.train_time/self.epochs_trained*1000,3)}\",\n",
    "                 color = \"darkgreen\",)\n",
    "        \n",
    "        plt.text(self.epochs_trained*.7, y_range*.85 + min(self.loss_history),\n",
    "                 f\" train loss: {round(self.train_loss,4)}\",\n",
    "                 color = \"darkgreen\",)\n",
    "        \n",
    "        plt.show()\n",
    "                \n",
    "        \n",
    "    def verify(self):\n",
    "        for i in range(1,len(self.layers)):\n",
    "            assert self.layers[i-1].size == self.layers[i].prev_size, \"invalid network\"\n",
    "            \n",
    "            \n",
    "    def verify_sample(self, x, y):\n",
    "        assert len(x) == len(y), \"x and y havent different numebr of samples\"\n",
    "        \n",
    "        for i in range(len(x)):\n",
    "            assert len(x[i]) == self.input_size, f\"sample at index [{i}] incorrect input size\"\n",
    "            assert len(y[i]) == self.output_size, f\"sample at index [{i}] incorrect output size\"\n",
    "        \n",
    "        \n",
    "    def predict(self, inp):\n",
    "        inp = inp.reshape(self.input_size,1)\n",
    "        assert inp.shape == (self.input_size, 1), \"wrong input size\"\n",
    "        \n",
    "        for i in range(self.num_layers):\n",
    "\n",
    "            inp = self.layers[i].forward(inp)\n",
    "            \n",
    "        return inp\n",
    "    \n",
    "    \n",
    "    def print_structure(self):\n",
    "        for i,layer in enumerate(self.layers[::-1]):\n",
    "            print(\"-\"*45)\n",
    "            print(type(layer))\n",
    "            print(f\"  layer: {self.num_layers-i-1}/{self.num_layers-1}\")\n",
    "            print(f\"neurons: {layer.size}\")\n",
    "            print(f\" prev n: {layer.prev_size}\")\n",
    "            print()\n",
    "   \n",
    "        \n",
    "    def forward(self, x):\n",
    "        assert x.shape == (self.input_size,1)\n",
    "        \n",
    "        for layer in self.layers:\n",
    "            x = layer.forward(x)\n",
    "            \n",
    "            \n",
    "    def backward(self, y, learn_coef = 1):\n",
    "        \n",
    "        g_cost_layer = np.array([2*(self.layers[-1].out[i] - y[i]) for i in range(self.output_size)])\n",
    "        \n",
    "        \n",
    "        #Looping through layers: going from end --> start \n",
    "        \n",
    "        i = len(self.layers)-1\n",
    "        \n",
    "        while i>0:\n",
    "             \n",
    "            #if it's a connected layer we want to update its weights and biases\n",
    "            if type(self.layers[i]) == connected_layer:\n",
    "                \n",
    "                #updating weights\n",
    "\n",
    "                g_layer_weights = np.array([self.layers[i-1].out.flatten() for c in range(self.layers[i].size)])\n",
    "                \n",
    "                g_cost_weights = matmul(np.diag(g_cost_layer.flatten()), g_layer_weights)\n",
    "                \n",
    "            \n",
    "                self.layers[i].weight_mat_update = self.layers[i].weight_mat_update - (g_cost_weights*learn_coef)\n",
    "                \n",
    "                \n",
    "                #updating biasses\n",
    "                \n",
    "                g_cost_bias = g_cost_layer\n",
    "                \n",
    "                self.layers[i].bias_mat_update = self.layers[i].bias_mat_update - (g_cost_bias*learn_coef)\n",
    "                \n",
    "            \n",
    "            g_cost_layer = matmul(self.layers[i].gradient_to_prev , g_cost_layer)\n",
    "            \n",
    "            \n",
    "            i -= 1\n",
    "        \n",
    "        \n",
    "    def fit(self, x, y, epochs = 10, learn_coef = .1, verbose = True):\n",
    "        \n",
    "        \n",
    "        loss_history = np.zeros(epochs)\n",
    "\n",
    "        start_time = time()\n",
    "        for epoch in range(epochs):\n",
    "\n",
    "            for s in range(len(x)):\n",
    "                self.forward(x[s].reshape(-1,1))\n",
    "\n",
    "                self.backward(y[s].reshape(-1,1), learn_coef)\n",
    "                \n",
    "            for layer in self.layers: \n",
    "                if type(layer) == connected_layer:\n",
    "                    layer.weight_mat = layer.weight_mat + (layer.weight_mat_update/len(x))\n",
    "                    layer.bias_mat = layer.bias_mat + (layer.bias_mat_update/len(x))\n",
    "\n",
    "            self.reset_update_mats()\n",
    "\n",
    "            loss = self.loss(x, y)\n",
    "            loss_history[epoch] = loss\n",
    "            self.epochs_trained += 1\n",
    "\n",
    "            if (verbose) and (epoch%(epochs/5) == 0):\n",
    "                print(\"-\"*20)     \n",
    "                print(f\"epoch: {self.epochs_trained} \\n loss: {round(loss, 4)}\")\n",
    "                \n",
    "            \n",
    "\n",
    "        self.train_time += time() - start_time\n",
    "        self.train_loss = self.loss(x, y)\n",
    "        if verbose:\n",
    "            print(\"-\"*20 + f\"\\nepoch: done \\n loss: {round(self.loss(x, y), 4)}\")\n",
    "\n",
    "        \n",
    "        \n",
    "        self.loss_history = np.concatenate((self.loss_history, loss_history))\n",
    "        \n",
    "        \n",
    "            "
   ]
  },
  {
   "attachments": {},
   "cell_type": "markdown",
   "id": "19ed3fec",
   "metadata": {},
   "source": [
    "#### Creating network with 2 hidden layers containg 10 neurons each all with sigmoid activations"
   ]
  },
  {
   "cell_type": "code",
   "execution_count": 34,
   "id": "b620258f",
   "metadata": {},
   "outputs": [],
   "source": [
    "np.random.seed(10)\n",
    "\n",
    "test_net_layers = [\n",
    "    input_layer(size = 2),\n",
    "    \n",
    "    connected_layer(num_neurons = 10, prev_neurons = 2),\n",
    "    activation_layer(10),\n",
    "    \n",
    "    connected_layer(num_neurons = 10, prev_neurons = 10),\n",
    "    activation_layer(10),\n",
    "    \n",
    "    connected_layer(num_neurons = 2, prev_neurons = 10)\n",
    "    \n",
    "]\n",
    "\n",
    "test_net = network(test_net_layers)"
   ]
  },
  {
   "attachments": {},
   "cell_type": "markdown",
   "id": "0c6e729a",
   "metadata": {},
   "source": [
    "#### Creating data points to lean\n",
    "\n",
    "True Relationship :  $\\hspace{4mm} F(x, y) = (x \\cdot y, x + y)$"
   ]
  },
  {
   "cell_type": "code",
   "execution_count": 35,
   "id": "ee3c96c1",
   "metadata": {},
   "outputs": [],
   "source": [
    "x = np.random.uniform(-2,2,(1000,2))\n",
    "\n",
    "y = np.array([[s[0]*s[1], s[0] + s[1]] for s in x])\n"
   ]
  },
  {
   "attachments": {},
   "cell_type": "markdown",
   "id": "c89b8301",
   "metadata": {},
   "source": [
    "#### Training on 500 epochs using regular gradient decent"
   ]
  },
  {
   "cell_type": "code",
   "execution_count": 36,
   "id": "c163a589",
   "metadata": {
    "scrolled": false
   },
   "outputs": [
    {
     "name": "stdout",
     "output_type": "stream",
     "text": [
      "--------------------\n",
      "epoch: 1 \n",
      " loss: 2.265699863433838\n"
     ]
    },
    {
     "ename": "KeyboardInterrupt",
     "evalue": "",
     "output_type": "error",
     "traceback": [
      "\u001b[0;31m---------------------------------------------------------------------------\u001b[0m",
      "\u001b[0;31mKeyboardInterrupt\u001b[0m                         Traceback (most recent call last)",
      "Cell \u001b[0;32mIn[36], line 1\u001b[0m\n\u001b[0;32m----> 1\u001b[0m test_net\u001b[39m.\u001b[39;49mfit(x, y, epochs \u001b[39m=\u001b[39;49m \u001b[39m500\u001b[39;49m)\n",
      "Cell \u001b[0;32mIn[33], line 144\u001b[0m, in \u001b[0;36mnetwork.fit\u001b[0;34m(self, x, y, epochs, learn_coef, verbose)\u001b[0m\n\u001b[1;32m    141\u001b[0m \u001b[39mfor\u001b[39;00m s \u001b[39min\u001b[39;00m \u001b[39mrange\u001b[39m(\u001b[39mlen\u001b[39m(x)):\n\u001b[1;32m    142\u001b[0m     \u001b[39mself\u001b[39m\u001b[39m.\u001b[39mforward(x[s]\u001b[39m.\u001b[39mreshape(\u001b[39m-\u001b[39m\u001b[39m1\u001b[39m,\u001b[39m1\u001b[39m))\n\u001b[0;32m--> 144\u001b[0m     \u001b[39mself\u001b[39;49m\u001b[39m.\u001b[39;49mbackward(y[s]\u001b[39m.\u001b[39;49mreshape(\u001b[39m-\u001b[39;49m\u001b[39m1\u001b[39;49m,\u001b[39m1\u001b[39;49m), learn_coef)\n\u001b[1;32m    146\u001b[0m \u001b[39mfor\u001b[39;00m layer \u001b[39min\u001b[39;00m \u001b[39mself\u001b[39m\u001b[39m.\u001b[39mlayers: \n\u001b[1;32m    147\u001b[0m     \u001b[39mif\u001b[39;00m \u001b[39mtype\u001b[39m(layer) \u001b[39m==\u001b[39m connected_layer:\n",
      "Cell \u001b[0;32mIn[33], line 98\u001b[0m, in \u001b[0;36mnetwork.backward\u001b[0;34m(self, y, learn_coef)\u001b[0m\n\u001b[1;32m     96\u001b[0m \u001b[39mdef\u001b[39;00m \u001b[39mbackward\u001b[39m(\u001b[39mself\u001b[39m, y, learn_coef \u001b[39m=\u001b[39m \u001b[39m1\u001b[39m):\n\u001b[0;32m---> 98\u001b[0m     g_cost_layer \u001b[39m=\u001b[39m np\u001b[39m.\u001b[39marray([\u001b[39m2\u001b[39m\u001b[39m*\u001b[39m(\u001b[39mself\u001b[39m\u001b[39m.\u001b[39mlayers[\u001b[39m-\u001b[39m\u001b[39m1\u001b[39m]\u001b[39m.\u001b[39mout[i] \u001b[39m-\u001b[39m y[i]) \u001b[39mfor\u001b[39;00m i \u001b[39min\u001b[39;00m \u001b[39mrange\u001b[39m(\u001b[39mself\u001b[39m\u001b[39m.\u001b[39moutput_size)])\n\u001b[1;32m    101\u001b[0m     \u001b[39m#Looping through layers: going from end --> start \u001b[39;00m\n\u001b[1;32m    103\u001b[0m     i \u001b[39m=\u001b[39m \u001b[39mlen\u001b[39m(\u001b[39mself\u001b[39m\u001b[39m.\u001b[39mlayers)\u001b[39m-\u001b[39m\u001b[39m1\u001b[39m\n",
      "Cell \u001b[0;32mIn[33], line 98\u001b[0m, in \u001b[0;36m<listcomp>\u001b[0;34m(.0)\u001b[0m\n\u001b[1;32m     96\u001b[0m \u001b[39mdef\u001b[39;00m \u001b[39mbackward\u001b[39m(\u001b[39mself\u001b[39m, y, learn_coef \u001b[39m=\u001b[39m \u001b[39m1\u001b[39m):\n\u001b[0;32m---> 98\u001b[0m     g_cost_layer \u001b[39m=\u001b[39m np\u001b[39m.\u001b[39marray([\u001b[39m2\u001b[39m\u001b[39m*\u001b[39m(\u001b[39mself\u001b[39;49m\u001b[39m.\u001b[39;49mlayers[\u001b[39m-\u001b[39;49m\u001b[39m1\u001b[39;49m]\u001b[39m.\u001b[39;49mout[i] \u001b[39m-\u001b[39m y[i]) \u001b[39mfor\u001b[39;00m i \u001b[39min\u001b[39;00m \u001b[39mrange\u001b[39m(\u001b[39mself\u001b[39m\u001b[39m.\u001b[39moutput_size)])\n\u001b[1;32m    101\u001b[0m     \u001b[39m#Looping through layers: going from end --> start \u001b[39;00m\n\u001b[1;32m    103\u001b[0m     i \u001b[39m=\u001b[39m \u001b[39mlen\u001b[39m(\u001b[39mself\u001b[39m\u001b[39m.\u001b[39mlayers)\u001b[39m-\u001b[39m\u001b[39m1\u001b[39m\n",
      "File \u001b[0;32m/Library/Frameworks/Python.framework/Versions/3.10/lib/python3.10/site-packages/jax/_src/array.py:317\u001b[0m, in \u001b[0;36mArrayImpl.__getitem__\u001b[0;34m(self, idx)\u001b[0m\n\u001b[1;32m    315\u001b[0m   \u001b[39mreturn\u001b[39;00m lax_numpy\u001b[39m.\u001b[39m_rewriting_take(\u001b[39mself\u001b[39m, idx)\n\u001b[1;32m    316\u001b[0m \u001b[39melse\u001b[39;00m:\n\u001b[0;32m--> 317\u001b[0m   \u001b[39mreturn\u001b[39;00m lax_numpy\u001b[39m.\u001b[39;49m_rewriting_take(\u001b[39mself\u001b[39;49m, idx)\n",
      "File \u001b[0;32m/Library/Frameworks/Python.framework/Versions/3.10/lib/python3.10/site-packages/jax/_src/numpy/lax_numpy.py:4128\u001b[0m, in \u001b[0;36m_rewriting_take\u001b[0;34m(arr, idx, indices_are_sorted, unique_indices, mode, fill_value)\u001b[0m\n\u001b[1;32m   4119\u001b[0m \u001b[39mdef\u001b[39;00m \u001b[39m_rewriting_take\u001b[39m(arr, idx, indices_are_sorted\u001b[39m=\u001b[39m\u001b[39mFalse\u001b[39;00m, unique_indices\u001b[39m=\u001b[39m\u001b[39mFalse\u001b[39;00m,\n\u001b[1;32m   4120\u001b[0m                     mode\u001b[39m=\u001b[39m\u001b[39mNone\u001b[39;00m, fill_value\u001b[39m=\u001b[39m\u001b[39mNone\u001b[39;00m):\n\u001b[1;32m   4121\u001b[0m   \u001b[39m# Computes arr[idx].\u001b[39;00m\n\u001b[0;32m   (...)\u001b[0m\n\u001b[1;32m   4125\u001b[0m   \u001b[39m# For simplicity of generated primitives, we call lax.dynamic_slice in the\u001b[39;00m\n\u001b[1;32m   4126\u001b[0m   \u001b[39m# simplest cases: i.e. non-dynamic arrays indexed with integers and slices.\u001b[39;00m\n\u001b[0;32m-> 4128\u001b[0m   \u001b[39mif\u001b[39;00m (result \u001b[39m:=\u001b[39m _attempt_rewriting_take_via_slice(arr, idx, mode)) \u001b[39mis\u001b[39;00m \u001b[39mnot\u001b[39;00m \u001b[39mNone\u001b[39;00m:\n\u001b[1;32m   4129\u001b[0m     \u001b[39mreturn\u001b[39;00m result\n\u001b[1;32m   4131\u001b[0m   \u001b[39m# TODO(mattjj,dougalm): expand dynamic shape indexing support\u001b[39;00m\n",
      "File \u001b[0;32m/Library/Frameworks/Python.framework/Versions/3.10/lib/python3.10/site-packages/jax/_src/numpy/lax_numpy.py:4113\u001b[0m, in \u001b[0;36m_attempt_rewriting_take_via_slice\u001b[0;34m(arr, idx, mode)\u001b[0m\n\u001b[1;32m   4111\u001b[0m \u001b[39mif\u001b[39;00m \u001b[39mlen\u001b[39m(start_indices) \u001b[39m>\u001b[39m \u001b[39m1\u001b[39m:\n\u001b[1;32m   4112\u001b[0m   start_indices \u001b[39m=\u001b[39m util\u001b[39m.\u001b[39mpromote_dtypes(\u001b[39m*\u001b[39mstart_indices)\n\u001b[0;32m-> 4113\u001b[0m arr \u001b[39m=\u001b[39m lax\u001b[39m.\u001b[39;49mdynamic_slice(arr, start_indices\u001b[39m=\u001b[39;49mstart_indices, slice_sizes\u001b[39m=\u001b[39;49mslice_sizes)\n\u001b[1;32m   4114\u001b[0m \u001b[39mif\u001b[39;00m int_indices:\n\u001b[1;32m   4115\u001b[0m   arr \u001b[39m=\u001b[39m lax\u001b[39m.\u001b[39msqueeze(arr, \u001b[39mtuple\u001b[39m(int_indices))\n",
      "File \u001b[0;32m/Library/Frameworks/Python.framework/Versions/3.10/lib/python3.10/site-packages/jax/_src/lax/slicing.py:105\u001b[0m, in \u001b[0;36mdynamic_slice\u001b[0;34m(operand, start_indices, slice_sizes)\u001b[0m\n\u001b[1;32m     63\u001b[0m \u001b[39mdef\u001b[39;00m \u001b[39mdynamic_slice\u001b[39m(\n\u001b[1;32m     64\u001b[0m     operand: Union[Array, np\u001b[39m.\u001b[39mndarray],\n\u001b[1;32m     65\u001b[0m     start_indices: Union[Union[Array, np\u001b[39m.\u001b[39mndarray], Sequence[ArrayLike]],\n\u001b[1;32m     66\u001b[0m     slice_sizes: Shape,\n\u001b[1;32m     67\u001b[0m ) \u001b[39m-\u001b[39m\u001b[39m>\u001b[39m Array:\n\u001b[1;32m     68\u001b[0m \u001b[39m  \u001b[39m\u001b[39m\"\"\"Wraps XLA's `DynamicSlice\u001b[39;00m\n\u001b[1;32m     69\u001b[0m \u001b[39m  <https://www.tensorflow.org/xla/operation_semantics#dynamicslice>`_\u001b[39;00m\n\u001b[1;32m     70\u001b[0m \u001b[39m  operator.\u001b[39;00m\n\u001b[0;32m   (...)\u001b[0m\n\u001b[1;32m    103\u001b[0m \u001b[39m           [ 8,  9, 10, 11]], dtype=int32)\u001b[39;00m\n\u001b[1;32m    104\u001b[0m \u001b[39m  \"\"\"\u001b[39;00m\n\u001b[0;32m--> 105\u001b[0m   start_indices \u001b[39m=\u001b[39m _dynamic_slice_indices(operand, start_indices)\n\u001b[1;32m    106\u001b[0m   \u001b[39mif\u001b[39;00m jax\u001b[39m.\u001b[39mconfig\u001b[39m.\u001b[39mjax_dynamic_shapes:\n\u001b[1;32m    107\u001b[0m     dynamic_sizes, static_sizes \u001b[39m=\u001b[39m lax\u001b[39m.\u001b[39m_extract_tracers_dyn_shape(slice_sizes)\n",
      "File \u001b[0;32m/Library/Frameworks/Python.framework/Versions/3.10/lib/python3.10/site-packages/jax/_src/lax/slicing.py:2174\u001b[0m, in \u001b[0;36m_dynamic_slice_indices\u001b[0;34m(operand, start_indices)\u001b[0m\n\u001b[1;32m   2172\u001b[0m     \u001b[39mcontinue\u001b[39;00m\n\u001b[1;32m   2173\u001b[0m   d_arr \u001b[39m=\u001b[39m lax\u001b[39m.\u001b[39mconvert_element_type(d, _dtype(i))\n\u001b[0;32m-> 2174\u001b[0m   result\u001b[39m.\u001b[39mappend(lax\u001b[39m.\u001b[39mselect(i \u001b[39m<\u001b[39m \u001b[39m0\u001b[39m, i \u001b[39m+\u001b[39;49m d_arr, i))\n\u001b[1;32m   2175\u001b[0m \u001b[39mreturn\u001b[39;00m result\n",
      "File \u001b[0;32m/Library/Frameworks/Python.framework/Versions/3.10/lib/python3.10/site-packages/jax/_src/numpy/array_methods.py:258\u001b[0m, in \u001b[0;36m_defer_to_unrecognized_arg.<locals>.deferring_binary_op\u001b[0;34m(self, other)\u001b[0m\n\u001b[1;32m    256\u001b[0m args \u001b[39m=\u001b[39m (other, \u001b[39mself\u001b[39m) \u001b[39mif\u001b[39;00m swap \u001b[39melse\u001b[39;00m (\u001b[39mself\u001b[39m, other)\n\u001b[1;32m    257\u001b[0m \u001b[39mif\u001b[39;00m \u001b[39misinstance\u001b[39m(other, _accepted_binop_types):\n\u001b[0;32m--> 258\u001b[0m   \u001b[39mreturn\u001b[39;00m binary_op(\u001b[39m*\u001b[39;49margs)\n\u001b[1;32m    259\u001b[0m \u001b[39mif\u001b[39;00m \u001b[39misinstance\u001b[39m(other, _rejected_binop_types):\n\u001b[1;32m    260\u001b[0m   \u001b[39mraise\u001b[39;00m \u001b[39mTypeError\u001b[39;00m(\u001b[39mf\u001b[39m\u001b[39m\"\u001b[39m\u001b[39munsupported operand type(s) for \u001b[39m\u001b[39m{\u001b[39;00mopchar\u001b[39m}\u001b[39;00m\u001b[39m: \u001b[39m\u001b[39m\"\u001b[39m\n\u001b[1;32m    261\u001b[0m                   \u001b[39mf\u001b[39m\u001b[39m\"\u001b[39m\u001b[39m{\u001b[39;00m\u001b[39mtype\u001b[39m(args[\u001b[39m0\u001b[39m])\u001b[39m.\u001b[39m\u001b[39m__name__\u001b[39m\u001b[39m!r}\u001b[39;00m\u001b[39m and \u001b[39m\u001b[39m{\u001b[39;00m\u001b[39mtype\u001b[39m(args[\u001b[39m1\u001b[39m])\u001b[39m.\u001b[39m\u001b[39m__name__\u001b[39m\u001b[39m!r}\u001b[39;00m\u001b[39m\"\u001b[39m)\n",
      "\u001b[0;31mKeyboardInterrupt\u001b[0m: "
     ]
    }
   ],
   "source": [
    "test_net.fit(x, y, epochs = 500)"
   ]
  },
  {
   "attachments": {},
   "cell_type": "markdown",
   "id": "0d2ee297",
   "metadata": {},
   "source": [
    "#### Visualizing training loss"
   ]
  },
  {
   "cell_type": "code",
   "execution_count": null,
   "id": "d6505c81",
   "metadata": {
    "scrolled": false
   },
   "outputs": [
    {
     "data": {
      "image/png": "[encoded data removed]",
      "text/plain": [
       "<Figure size 700x400 with 1 Axes>"
      ]
     },
     "metadata": {},
     "output_type": "display_data"
    }
   ],
   "source": [
    "test_net.graph_loss_history()"
   ]
  },
  {
   "attachments": {},
   "cell_type": "markdown",
   "id": "4a9fe273",
   "metadata": {},
   "source": [
    "#### Testing out of sample data points"
   ]
  },
  {
   "cell_type": "code",
   "execution_count": null,
   "id": "cc94bd18",
   "metadata": {
    "scrolled": false
   },
   "outputs": [
    {
     "data": {
      "text/plain": [
       "0.084297158876774"
      ]
     },
     "execution_count": 9,
     "metadata": {},
     "output_type": "execute_result"
    }
   ],
   "source": [
    "x_test = np.random.uniform(-2,2,(10000,2))\n",
    "\n",
    "y_test = np.array([[s[0]*s[1], s[0] + s[1]] for s in x_test])\n",
    "    \n",
    "test_net.loss(x_test, y_test)"
   ]
  },
  {
   "cell_type": "code",
   "execution_count": null,
   "id": "401b75d3",
   "metadata": {},
   "outputs": [
    {
     "name": "stdout",
     "output_type": "stream",
     "text": [
      "---------------------------------------------\n",
      "in, out:\n",
      " [ 0.85 -1.68] , [-1.43 -0.82] \n",
      "\n",
      "predicted:\n",
      " [-1.34 -0.61]\n",
      "---------------------------------------------\n",
      "in, out:\n",
      " [-1.04  1.09] , [-1.13  0.05] \n",
      "\n",
      "predicted:\n",
      " [-1.33  0.05]\n",
      "---------------------------------------------\n",
      "in, out:\n",
      " [-0.17 -1.58] , [ 0.27 -1.75] \n",
      "\n",
      "predicted:\n",
      " [ 0.32 -1.7 ]\n",
      "---------------------------------------------\n",
      "in, out:\n",
      " [-0.9  -0.81] , [ 0.73 -1.71] \n",
      "\n",
      "predicted:\n",
      " [ 1.   -1.96]\n"
     ]
    }
   ],
   "source": [
    "for i in range(4):\n",
    "    print(\"-\"*45)    \n",
    "    print(\"in, out:\\n\", x_test[i].round(2), \",\", y_test[i].round(2), \n",
    "          \"\\n\\npredicted:\\n\", test_net.predict(x_test[i]).flatten().round(2))"
   ]
  }
 ],
 "metadata": {
  "kernelspec": {
   "display_name": "Python 3 (ipykernel)",
   "language": "python",
   "name": "python3"
  },
  "language_info": {
   "codemirror_mode": {
    "name": "ipython",
    "version": 3
   },
   "file_extension": ".py",
   "mimetype": "text/x-python",
   "name": "python",
   "nbconvert_exporter": "python",
   "pygments_lexer": "ipython3",
   "version": "3.10.10"
  }
 },
 "nbformat": 4,
 "nbformat_minor": 5
}
