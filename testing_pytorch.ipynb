{
 "cells": [
  {
   "cell_type": "code",
   "execution_count": 198,
   "metadata": {},
   "outputs": [],
   "source": [
    "import torch\n",
    "import numpy as np\n",
    "import timeit\n",
    "from scipy.special import expit as sigmoid\n",
    "\n",
    "from numba import jit"
   ]
  },
  {
   "cell_type": "code",
   "execution_count": 2,
   "metadata": {},
   "outputs": [],
   "source": [
    "vec_1 = torch.rand((1000, 10000), device = 'cpu')\n",
    "vec_2 = torch.rand((10000, 1000), device = 'cpu')"
   ]
  },
  {
   "cell_type": "code",
   "execution_count": 3,
   "metadata": {},
   "outputs": [
    {
     "name": "stdout",
     "output_type": "stream",
     "text": [
      "11.1 ms ± 710 µs per loop (mean ± std. dev. of 7 runs, 100 loops each)\n"
     ]
    }
   ],
   "source": [
    "%%timeit\n",
    "torch.matmul(vec_1, vec_2)"
   ]
  },
  {
   "cell_type": "code",
   "execution_count": 9,
   "metadata": {},
   "outputs": [
    {
     "data": {
      "text/plain": [
       "tensor([[ 0.8742, -0.7665, -0.6618,  0.9304, -0.5960],\n",
       "        [-0.6149,  0.2832,  0.4390,  0.2634, -0.4398]])"
      ]
     },
     "execution_count": 9,
     "metadata": {},
     "output_type": "execute_result"
    }
   ],
   "source": [
    "torch.rand(2,5)*2 - 1"
   ]
  },
  {
   "cell_type": "code",
   "execution_count": 209,
   "metadata": {},
   "outputs": [
    {
     "data": {
      "text/plain": [
       "tensor([[ 0.3857,  1.7113, -0.3298,  ..., -0.0837,  0.1567, -1.5736],\n",
       "        [-0.2135,  0.6036,  1.5356,  ...,  0.0556,  0.7206, -0.4857],\n",
       "        [ 0.4483, -1.5239,  0.9814,  ...,  1.0291,  0.5709, -1.3522],\n",
       "        ...,\n",
       "        [-0.8994, -1.3244, -0.6786,  ..., -1.9692,  1.2105, -1.8093],\n",
       "        [ 0.0388, -0.7842, -1.7497,  ..., -0.4083,  1.0703, -0.2278],\n",
       "        [-1.5943,  1.8713,  1.3633,  ...,  0.4237, -1.3795, -1.2761]])"
      ]
     },
     "execution_count": 209,
     "metadata": {},
     "output_type": "execute_result"
    }
   ],
   "source": [
    "vec = torch.rand(100, 100, device = 'cpu')*4 - 2\n",
    "vec\n"
   ]
  },
  {
   "cell_type": "code",
   "execution_count": 194,
   "metadata": {},
   "outputs": [],
   "source": [
    "def tensor_sigmoid(v):\n",
    "    tens = torch.clone(v)\n",
    "    if tens.get_device() != -1: tens = tens.to(\"cpu\")\n",
    "    tens = tens.apply_(sigmoid)\n",
    "    tens = tens.to('mps')\n",
    "\n",
    "    return tens"
   ]
  },
  {
   "cell_type": "code",
   "execution_count": 195,
   "metadata": {},
   "outputs": [
    {
     "name": "stdout",
     "output_type": "stream",
     "text": [
      "3.46 ms ± 12.5 µs per loop (mean ± std. dev. of 7 runs, 100 loops each)\n"
     ]
    }
   ],
   "source": [
    "%%timeit\n",
    "tensor_sigmoid(vec)"
   ]
  },
  {
   "cell_type": "code",
   "execution_count": 210,
   "metadata": {},
   "outputs": [],
   "source": [
    "def tran(tsr):\n",
    "    return tsr.T\n",
    "\n"
   ]
  },
  {
   "cell_type": "code",
   "execution_count": 215,
   "metadata": {},
   "outputs": [
    {
     "ename": "TypeError",
     "evalue": "clone() got an unexpected keyword argument 'device'",
     "output_type": "error",
     "traceback": [
      "\u001b[0;31m---------------------------------------------------------------------------\u001b[0m",
      "\u001b[0;31mTypeError\u001b[0m                                 Traceback (most recent call last)",
      "Cell \u001b[0;32mIn[215], line 1\u001b[0m\n\u001b[0;32m----> 1\u001b[0m a \u001b[39m=\u001b[39m torch\u001b[39m.\u001b[39;49mclone(tran(vec), device \u001b[39m=\u001b[39;49m \u001b[39m'\u001b[39;49m\u001b[39mmps\u001b[39;49m\u001b[39m'\u001b[39;49m)\n\u001b[1;32m      2\u001b[0m a\n",
      "\u001b[0;31mTypeError\u001b[0m: clone() got an unexpected keyword argument 'device'"
     ]
    }
   ],
   "source": [
    "a = torch.clone(tran(vec), device = 'mps')\n",
    "a"
   ]
  },
  {
   "cell_type": "code",
   "execution_count": 213,
   "metadata": {},
   "outputs": [
    {
     "data": {
      "text/plain": [
       "tensor([[5.3857, 4.7865, 5.4483,  ..., 4.1006, 5.0388, 3.4057],\n",
       "        [6.7113, 5.6036, 3.4761,  ..., 3.6756, 4.2158, 6.8713],\n",
       "        [4.6702, 6.5356, 5.9814,  ..., 4.3214, 3.2503, 6.3633],\n",
       "        ...,\n",
       "        [4.9163, 5.0556, 6.0291,  ..., 3.0308, 4.5917, 5.4237],\n",
       "        [5.1567, 5.7206, 5.5709,  ..., 6.2105, 6.0703, 3.6205],\n",
       "        [3.4264, 4.5143, 3.6478,  ..., 3.1907, 4.7722, 3.7239]])"
      ]
     },
     "execution_count": 213,
     "metadata": {},
     "output_type": "execute_result"
    }
   ],
   "source": [
    "a += 5\n",
    "a"
   ]
  },
  {
   "cell_type": "code",
   "execution_count": 214,
   "metadata": {},
   "outputs": [
    {
     "data": {
      "text/plain": [
       "tensor([[ 0.3857,  1.7113, -0.3298,  ..., -0.0837,  0.1567, -1.5736],\n",
       "        [-0.2135,  0.6036,  1.5356,  ...,  0.0556,  0.7206, -0.4857],\n",
       "        [ 0.4483, -1.5239,  0.9814,  ...,  1.0291,  0.5709, -1.3522],\n",
       "        ...,\n",
       "        [-0.8994, -1.3244, -0.6786,  ..., -1.9692,  1.2105, -1.8093],\n",
       "        [ 0.0388, -0.7842, -1.7497,  ..., -0.4083,  1.0703, -0.2278],\n",
       "        [-1.5943,  1.8713,  1.3633,  ...,  0.4237, -1.3795, -1.2761]])"
      ]
     },
     "execution_count": 214,
     "metadata": {},
     "output_type": "execute_result"
    }
   ],
   "source": [
    "vec"
   ]
  },
  {
   "cell_type": "code",
   "execution_count": 218,
   "metadata": {},
   "outputs": [
    {
     "data": {
      "text/plain": [
       "tensor([0.0000, 0.2500, 0.5000, 0.7500, 1.0000])"
      ]
     },
     "execution_count": 218,
     "metadata": {},
     "output_type": "execute_result"
    }
   ],
   "source": [
    "torch.linspace(0, 1, 5)"
   ]
  },
  {
   "cell_type": "code",
   "execution_count": 220,
   "metadata": {},
   "outputs": [
    {
     "data": {
      "text/plain": [
       "6"
      ]
     },
     "execution_count": 220,
     "metadata": {},
     "output_type": "execute_result"
    }
   ],
   "source": [
    "len(torch.zeros(6,4))"
   ]
  },
  {
   "cell_type": "code",
   "execution_count": 221,
   "metadata": {},
   "outputs": [
    {
     "data": {
      "text/plain": [
       "tensor([1, 2, 3])"
      ]
     },
     "execution_count": 221,
     "metadata": {},
     "output_type": "execute_result"
    }
   ],
   "source": [
    "torch.tensor([1,2,3])"
   ]
  },
  {
   "cell_type": "code",
   "execution_count": 249,
   "metadata": {},
   "outputs": [],
   "source": [
    "vec_1 = torch.arange(5)**2\n",
    "vec_2 = torch.arange(5)\n",
    "vec_3 = vec_1 - (5*vec_2)\n",
    "vec_3 = vec_3 + vec_1\n"
   ]
  },
  {
   "cell_type": "code",
   "execution_count": 250,
   "metadata": {},
   "outputs": [
    {
     "name": "stdout",
     "output_type": "stream",
     "text": [
      "tensor([ 0,  1,  4,  9, 16])\n",
      "tensor([0, 1, 2, 3, 4])\n",
      "tensor([ 0, -3, -2,  3, 12])\n"
     ]
    }
   ],
   "source": [
    "print(vec_1, vec_2, vec_3, sep= \"\\n\")"
   ]
  },
  {
   "cell_type": "code",
   "execution_count": 251,
   "metadata": {},
   "outputs": [
    {
     "ename": "NameError",
     "evalue": "name 'x' is not defined",
     "output_type": "error",
     "traceback": [
      "\u001b[0;31m---------------------------------------------------------------------------\u001b[0m",
      "\u001b[0;31mNameError\u001b[0m                                 Traceback (most recent call last)",
      "Cell \u001b[0;32mIn[251], line 1\u001b[0m\n\u001b[0;32m----> 1\u001b[0m np\u001b[39m.\u001b[39marray([[s[\u001b[39m0\u001b[39m]\u001b[39m*\u001b[39ms[\u001b[39m1\u001b[39m], s[\u001b[39m0\u001b[39m] \u001b[39m+\u001b[39m s[\u001b[39m1\u001b[39m]] \u001b[39mfor\u001b[39;00m s \u001b[39min\u001b[39;00m x])\n",
      "\u001b[0;31mNameError\u001b[0m: name 'x' is not defined"
     ]
    }
   ],
   "source": [
    "np.array([[s[0]*s[1], s[0] + s[1]] for s in x])"
   ]
  },
  {
   "cell_type": "code",
   "execution_count": 253,
   "metadata": {},
   "outputs": [
    {
     "data": {
      "text/plain": [
       "tensor([[0, 1, 2, 3, 4],\n",
       "        [0, 1, 2, 3, 4]])"
      ]
     },
     "execution_count": 253,
     "metadata": {},
     "output_type": "execute_result"
    }
   ],
   "source": [
    "torch.stack([torch.arange(5), torch.arange(5)])"
   ]
  },
  {
   "cell_type": "code",
   "execution_count": null,
   "metadata": {},
   "outputs": [],
   "source": []
  }
 ],
 "metadata": {
  "kernelspec": {
   "display_name": "Python 3",
   "language": "python",
   "name": "python3"
  },
  "language_info": {
   "codemirror_mode": {
    "name": "ipython",
    "version": 3
   },
   "file_extension": ".py",
   "mimetype": "text/x-python",
   "name": "python",
   "nbconvert_exporter": "python",
   "pygments_lexer": "ipython3",
   "version": "3.10.10"
  },
  "orig_nbformat": 4
 },
 "nbformat": 4,
 "nbformat_minor": 2
}
